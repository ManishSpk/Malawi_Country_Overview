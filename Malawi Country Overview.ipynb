{
 "cells": [
  {
   "cell_type": "code",
   "execution_count": 35,
   "metadata": {},
   "outputs": [],
   "source": [
    "import pandas as pd"
   ]
  },
  {
   "cell_type": "markdown",
   "metadata": {},
   "source": [
    "Importing BACI 2018 Data (HS17) http://www.cepii.fr/CEPII/en/bdd_modele/download.asp?id=37"
   ]
  },
  {
   "cell_type": "code",
   "execution_count": 36,
   "metadata": {},
   "outputs": [],
   "source": [
    "all_2018 = pd.read_csv('BACI_HS17_Y2018_V202001.csv')"
   ]
  },
  {
   "cell_type": "markdown",
   "metadata": {},
   "source": [
    "Selecting Malawi only from the BACI Data. Malawi country code = 454 and i = exporter. "
   ]
  },
  {
   "cell_type": "code",
   "execution_count": 37,
   "metadata": {},
   "outputs": [
    {
     "data": {
      "text/html": [
       "<div>\n",
       "<style scoped>\n",
       "    .dataframe tbody tr th:only-of-type {\n",
       "        vertical-align: middle;\n",
       "    }\n",
       "\n",
       "    .dataframe tbody tr th {\n",
       "        vertical-align: top;\n",
       "    }\n",
       "\n",
       "    .dataframe thead th {\n",
       "        text-align: right;\n",
       "    }\n",
       "</style>\n",
       "<table border=\"1\" class=\"dataframe\">\n",
       "  <thead>\n",
       "    <tr style=\"text-align: right;\">\n",
       "      <th></th>\n",
       "      <th>t</th>\n",
       "      <th>i</th>\n",
       "      <th>j</th>\n",
       "      <th>k</th>\n",
       "      <th>v</th>\n",
       "      <th>q</th>\n",
       "    </tr>\n",
       "  </thead>\n",
       "  <tbody>\n",
       "    <tr>\n",
       "      <th>3932726</th>\n",
       "      <td>2018</td>\n",
       "      <td>454</td>\n",
       "      <td>24</td>\n",
       "      <td>820719</td>\n",
       "      <td>3.924000</td>\n",
       "      <td>0.798</td>\n",
       "    </tr>\n",
       "    <tr>\n",
       "      <th>3932727</th>\n",
       "      <td>2018</td>\n",
       "      <td>454</td>\n",
       "      <td>32</td>\n",
       "      <td>121190</td>\n",
       "      <td>4.960885</td>\n",
       "      <td>1.100</td>\n",
       "    </tr>\n",
       "    <tr>\n",
       "      <th>3932728</th>\n",
       "      <td>2018</td>\n",
       "      <td>454</td>\n",
       "      <td>36</td>\n",
       "      <td>90111</td>\n",
       "      <td>23.253868</td>\n",
       "      <td>7.970</td>\n",
       "    </tr>\n",
       "    <tr>\n",
       "      <th>3932729</th>\n",
       "      <td>2018</td>\n",
       "      <td>454</td>\n",
       "      <td>36</td>\n",
       "      <td>870880</td>\n",
       "      <td>2.297757</td>\n",
       "      <td>0.275</td>\n",
       "    </tr>\n",
       "    <tr>\n",
       "      <th>3932730</th>\n",
       "      <td>2018</td>\n",
       "      <td>454</td>\n",
       "      <td>40</td>\n",
       "      <td>80290</td>\n",
       "      <td>26.256640</td>\n",
       "      <td>0.998</td>\n",
       "    </tr>\n",
       "    <tr>\n",
       "      <th>...</th>\n",
       "      <td>...</td>\n",
       "      <td>...</td>\n",
       "      <td>...</td>\n",
       "      <td>...</td>\n",
       "      <td>...</td>\n",
       "      <td>...</td>\n",
       "    </tr>\n",
       "    <tr>\n",
       "      <th>3933765</th>\n",
       "      <td>2018</td>\n",
       "      <td>454</td>\n",
       "      <td>894</td>\n",
       "      <td>940190</td>\n",
       "      <td>2.757000</td>\n",
       "      <td>4.030</td>\n",
       "    </tr>\n",
       "    <tr>\n",
       "      <th>3933766</th>\n",
       "      <td>2018</td>\n",
       "      <td>454</td>\n",
       "      <td>894</td>\n",
       "      <td>940370</td>\n",
       "      <td>1.346000</td>\n",
       "      <td>0.450</td>\n",
       "    </tr>\n",
       "    <tr>\n",
       "      <th>3933767</th>\n",
       "      <td>2018</td>\n",
       "      <td>454</td>\n",
       "      <td>894</td>\n",
       "      <td>940389</td>\n",
       "      <td>43.966000</td>\n",
       "      <td>4.600</td>\n",
       "    </tr>\n",
       "    <tr>\n",
       "      <th>3933768</th>\n",
       "      <td>2018</td>\n",
       "      <td>454</td>\n",
       "      <td>894</td>\n",
       "      <td>940429</td>\n",
       "      <td>8.657000</td>\n",
       "      <td>5.000</td>\n",
       "    </tr>\n",
       "    <tr>\n",
       "      <th>3933769</th>\n",
       "      <td>2018</td>\n",
       "      <td>454</td>\n",
       "      <td>894</td>\n",
       "      <td>960340</td>\n",
       "      <td>1.060000</td>\n",
       "      <td>0.059</td>\n",
       "    </tr>\n",
       "  </tbody>\n",
       "</table>\n",
       "<p>1044 rows × 6 columns</p>\n",
       "</div>"
      ],
      "text/plain": [
       "            t    i    j       k          v      q\n",
       "3932726  2018  454   24  820719   3.924000  0.798\n",
       "3932727  2018  454   32  121190   4.960885  1.100\n",
       "3932728  2018  454   36   90111  23.253868  7.970\n",
       "3932729  2018  454   36  870880   2.297757  0.275\n",
       "3932730  2018  454   40   80290  26.256640  0.998\n",
       "...       ...  ...  ...     ...        ...    ...\n",
       "3933765  2018  454  894  940190   2.757000  4.030\n",
       "3933766  2018  454  894  940370   1.346000  0.450\n",
       "3933767  2018  454  894  940389  43.966000  4.600\n",
       "3933768  2018  454  894  940429   8.657000  5.000\n",
       "3933769  2018  454  894  960340   1.060000  0.059\n",
       "\n",
       "[1044 rows x 6 columns]"
      ]
     },
     "execution_count": 37,
     "metadata": {},
     "output_type": "execute_result"
    }
   ],
   "source": [
    "malawi = [454]\n",
    "malawi_2018 = all_2018[all_2018.i.isin(malawi)]\n",
    "malawi_2018"
   ]
  },
  {
   "cell_type": "code",
   "execution_count": 38,
   "metadata": {},
   "outputs": [
    {
     "data": {
      "text/plain": [
       "t    2.106792e+06\n",
       "i    4.739760e+05\n",
       "j    6.334710e+05\n",
       "k    4.788721e+08\n",
       "v    9.132848e+05\n",
       "q    5.310900e+05\n",
       "dtype: float64"
      ]
     },
     "execution_count": 38,
     "metadata": {},
     "output_type": "execute_result"
    }
   ],
   "source": [
    "malawi_2018.sum()"
   ]
  },
  {
   "cell_type": "markdown",
   "metadata": {},
   "source": [
    "Total Merchandise Export Earning By Malawi in thousannds current USD"
   ]
  },
  {
   "cell_type": "code",
   "execution_count": 39,
   "metadata": {},
   "outputs": [
    {
     "data": {
      "text/plain": [
       "913284.8"
      ]
     },
     "execution_count": 39,
     "metadata": {},
     "output_type": "execute_result"
    }
   ],
   "source": [
    " 9.132848e+05"
   ]
  },
  {
   "cell_type": "code",
   "execution_count": 40,
   "metadata": {},
   "outputs": [
    {
     "data": {
      "text/html": [
       "<div>\n",
       "<style scoped>\n",
       "    .dataframe tbody tr th:only-of-type {\n",
       "        vertical-align: middle;\n",
       "    }\n",
       "\n",
       "    .dataframe tbody tr th {\n",
       "        vertical-align: top;\n",
       "    }\n",
       "\n",
       "    .dataframe thead th {\n",
       "        text-align: right;\n",
       "    }\n",
       "</style>\n",
       "<table border=\"1\" class=\"dataframe\">\n",
       "  <thead>\n",
       "    <tr style=\"text-align: right;\">\n",
       "      <th></th>\n",
       "      <th>t</th>\n",
       "      <th>i</th>\n",
       "      <th>j</th>\n",
       "      <th>k</th>\n",
       "      <th>v</th>\n",
       "      <th>q</th>\n",
       "    </tr>\n",
       "  </thead>\n",
       "  <tbody>\n",
       "    <tr>\n",
       "      <th>3932745</th>\n",
       "      <td>2018</td>\n",
       "      <td>454</td>\n",
       "      <td>51</td>\n",
       "      <td>240120</td>\n",
       "      <td>5801.255432</td>\n",
       "      <td>1315.038</td>\n",
       "    </tr>\n",
       "    <tr>\n",
       "      <th>3932754</th>\n",
       "      <td>2018</td>\n",
       "      <td>454</td>\n",
       "      <td>58</td>\n",
       "      <td>240110</td>\n",
       "      <td>5924.840972</td>\n",
       "      <td>1171.827</td>\n",
       "    </tr>\n",
       "    <tr>\n",
       "      <th>3932755</th>\n",
       "      <td>2018</td>\n",
       "      <td>454</td>\n",
       "      <td>58</td>\n",
       "      <td>240120</td>\n",
       "      <td>196331.366911</td>\n",
       "      <td>36101.509</td>\n",
       "    </tr>\n",
       "    <tr>\n",
       "      <th>3932756</th>\n",
       "      <td>2018</td>\n",
       "      <td>454</td>\n",
       "      <td>58</td>\n",
       "      <td>240130</td>\n",
       "      <td>4614.602000</td>\n",
       "      <td>7091.600</td>\n",
       "    </tr>\n",
       "    <tr>\n",
       "      <th>3932760</th>\n",
       "      <td>2018</td>\n",
       "      <td>454</td>\n",
       "      <td>70</td>\n",
       "      <td>240120</td>\n",
       "      <td>499.886874</td>\n",
       "      <td>90.600</td>\n",
       "    </tr>\n",
       "    <tr>\n",
       "      <th>...</th>\n",
       "      <td>...</td>\n",
       "      <td>...</td>\n",
       "      <td>...</td>\n",
       "      <td>...</td>\n",
       "      <td>...</td>\n",
       "      <td>...</td>\n",
       "    </tr>\n",
       "    <tr>\n",
       "      <th>3933592</th>\n",
       "      <td>2018</td>\n",
       "      <td>454</td>\n",
       "      <td>842</td>\n",
       "      <td>240120</td>\n",
       "      <td>24199.223862</td>\n",
       "      <td>5344.100</td>\n",
       "    </tr>\n",
       "    <tr>\n",
       "      <th>3933593</th>\n",
       "      <td>2018</td>\n",
       "      <td>454</td>\n",
       "      <td>842</td>\n",
       "      <td>240130</td>\n",
       "      <td>145.019034</td>\n",
       "      <td>200.600</td>\n",
       "    </tr>\n",
       "    <tr>\n",
       "      <th>3933611</th>\n",
       "      <td>2018</td>\n",
       "      <td>454</td>\n",
       "      <td>858</td>\n",
       "      <td>240120</td>\n",
       "      <td>668.835719</td>\n",
       "      <td>158.400</td>\n",
       "    </tr>\n",
       "    <tr>\n",
       "      <th>3933612</th>\n",
       "      <td>2018</td>\n",
       "      <td>454</td>\n",
       "      <td>860</td>\n",
       "      <td>240120</td>\n",
       "      <td>359.282234</td>\n",
       "      <td>65.840</td>\n",
       "    </tr>\n",
       "    <tr>\n",
       "      <th>3933641</th>\n",
       "      <td>2018</td>\n",
       "      <td>454</td>\n",
       "      <td>894</td>\n",
       "      <td>240220</td>\n",
       "      <td>1.811000</td>\n",
       "      <td>0.750</td>\n",
       "    </tr>\n",
       "  </tbody>\n",
       "</table>\n",
       "<p>83 rows × 6 columns</p>\n",
       "</div>"
      ],
      "text/plain": [
       "            t    i    j       k              v          q\n",
       "3932745  2018  454   51  240120    5801.255432   1315.038\n",
       "3932754  2018  454   58  240110    5924.840972   1171.827\n",
       "3932755  2018  454   58  240120  196331.366911  36101.509\n",
       "3932756  2018  454   58  240130    4614.602000   7091.600\n",
       "3932760  2018  454   70  240120     499.886874     90.600\n",
       "...       ...  ...  ...     ...            ...        ...\n",
       "3933592  2018  454  842  240120   24199.223862   5344.100\n",
       "3933593  2018  454  842  240130     145.019034    200.600\n",
       "3933611  2018  454  858  240120     668.835719    158.400\n",
       "3933612  2018  454  860  240120     359.282234     65.840\n",
       "3933641  2018  454  894  240220       1.811000      0.750\n",
       "\n",
       "[83 rows x 6 columns]"
      ]
     },
     "execution_count": 40,
     "metadata": {},
     "output_type": "execute_result"
    }
   ],
   "source": [
    "tobacco = [240110, 240120, 240130, 240220, 240310, 240391]\n",
    "malawi_tobacco_2018 = malawi_2018[malawi_2018.k.isin(tobacco)]\n",
    "malawi_tobacco_2018"
   ]
  },
  {
   "cell_type": "code",
   "execution_count": 41,
   "metadata": {},
   "outputs": [
    {
     "data": {
      "text/plain": [
       "t    1.674940e+05\n",
       "i    3.768200e+04\n",
       "j    4.189500e+04\n",
       "k    1.993043e+07\n",
       "v    6.215791e+05\n",
       "q    1.457334e+05\n",
       "dtype: float64"
      ]
     },
     "execution_count": 41,
     "metadata": {},
     "output_type": "execute_result"
    }
   ],
   "source": [
    "malawi_tobacco_2018.sum()"
   ]
  },
  {
   "cell_type": "markdown",
   "metadata": {},
   "source": [
    "Tobacco Export Earning By Malawi in thousannds current USD"
   ]
  },
  {
   "cell_type": "code",
   "execution_count": 42,
   "metadata": {},
   "outputs": [
    {
     "data": {
      "text/plain": [
       "621579.1"
      ]
     },
     "execution_count": 42,
     "metadata": {},
     "output_type": "execute_result"
    }
   ],
   "source": [
    " 6.215791e+05"
   ]
  },
  {
   "cell_type": "markdown",
   "metadata": {},
   "source": [
    "Tobacco Exports Divided by Total Merchandise Export Earning"
   ]
  },
  {
   "cell_type": "code",
   "execution_count": 44,
   "metadata": {},
   "outputs": [
    {
     "data": {
      "text/plain": [
       "68.05972244364517"
      ]
     },
     "execution_count": 44,
     "metadata": {},
     "output_type": "execute_result"
    }
   ],
   "source": [
    "(621579.1/913284.8)*100"
   ]
  },
  {
   "cell_type": "code",
   "execution_count": null,
   "metadata": {},
   "outputs": [],
   "source": [
    "Tobacco Exports Divided by GDP 2018"
   ]
  },
  {
   "cell_type": "code",
   "execution_count": 45,
   "metadata": {},
   "outputs": [
    {
     "data": {
      "text/plain": [
       "8.98586050005153"
      ]
     },
     "execution_count": 45,
     "metadata": {},
     "output_type": "execute_result"
    }
   ],
   "source": [
    "(621579.1/6917301.91)*100"
   ]
  },
  {
   "cell_type": "code",
   "execution_count": null,
   "metadata": {},
   "outputs": [],
   "source": []
  }
 ],
 "metadata": {
  "kernelspec": {
   "display_name": "Python 3",
   "language": "python",
   "name": "python3"
  },
  "language_info": {
   "codemirror_mode": {
    "name": "ipython",
    "version": 3
   },
   "file_extension": ".py",
   "mimetype": "text/x-python",
   "name": "python",
   "nbconvert_exporter": "python",
   "pygments_lexer": "ipython3",
   "version": "3.7.6"
  }
 },
 "nbformat": 4,
 "nbformat_minor": 4
}
